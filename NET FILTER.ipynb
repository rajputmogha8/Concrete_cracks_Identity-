{
 "cells": [
  {
   "cell_type": "code",
   "execution_count": 1,
   "metadata": {},
   "outputs": [
    {
     "name": "stdout",
     "output_type": "stream",
     "text": [
      "Using matplotlib backend: Qt5Agg\n"
     ]
    },
    {
     "name": "stderr",
     "output_type": "stream",
     "text": [
      "C:\\Users\\BJ\\anaconda3\\lib\\site-packages\\skimage\\viewer\\utils\\__init__.py:1: UserWarning: Recommended matplotlib backend is `Agg` for full skimage.viewer functionality.\n",
      "  from .core import *\n"
     ]
    }
   ],
   "source": [
    "# Get set up\n",
    "import cv2\n",
    "import numpy as np\n",
    "import skimage\n",
    "import skimage.feature\n",
    "import skimage.viewer\n",
    "import matplotlib.pyplot as plt\n",
    "%matplotlib\n",
    "img = cv2.imread(\"wat_pho.png\")\n",
    "img = cv2.cvtColor(img, cv2.COLOR_BGR2RGB) # Fixes color read issue"
   ]
  },
  {
   "cell_type": "code",
   "execution_count": 2,
   "metadata": {},
   "outputs": [],
   "source": [
    "ch=0\n",
    "def choices():\n",
    "    \n",
    "    print(\" hello you have the following choices \\n\")\n",
    "    print('press 1 average filter\\n')\n",
    "    print('press 2 noise and median filter\\n')\n",
    "    print('press 3 gaussian filter\\n')\n",
    "    print('press 4 bilateral filter\\n')\n",
    "    print('press 5 edge filter\\n') \n",
    "    ch=input(\"*******enter your choice***********\\n\")\n",
    "    return ch;\n",
    "\n",
    "\n"
   ]
  },
  {
   "cell_type": "code",
   "execution_count": 3,
   "metadata": {},
   "outputs": [],
   "source": [
    "def output_im(ch):\n",
    "        if ch==1:\n",
    "            avg_img(img)\n",
    "            \n",
    "        elif ch==2:\n",
    "            noise(img)\n",
    "            \n",
    "        elif ch==3:\n",
    "            gausian(img)\n",
    "            \n",
    "        elif ch==4:\n",
    "            bilateral(img)\n",
    "            \n",
    "        elif ch==5:\n",
    "            edges(img)\n",
    "            \n",
    "        else:\n",
    "            print ('enter the valid choice')\n",
    "    "
   ]
  },
  {
   "cell_type": "code",
   "execution_count": 4,
   "metadata": {},
   "outputs": [
    {
     "name": "stdout",
     "output_type": "stream",
     "text": [
      "enter the valid choice\n"
     ]
    }
   ],
   "source": [
    "def start():\n",
    "    ch=choices()\n",
    "    print('output of the image is')\n",
    "    \n",
    "output_im(ch)\n",
    " "
   ]
  },
  {
   "cell_type": "code",
   "execution_count": null,
   "metadata": {},
   "outputs": [],
   "source": []
  },
  {
   "cell_type": "code",
   "execution_count": 5,
   "metadata": {},
   "outputs": [],
   "source": [
    " def avg_img(img):\n",
    "    av3 = cv2.blur(img,(3,3))\n",
    "    av5 = cv2.blur(img,(5,5))\n",
    "    # Plot the image. This code is excluded for the rest of the article.\n",
    "    plt.gcf().set_size_inches(25,25)\n",
    "    plt.title(\"average is applied to the image and the result is here\")\n",
    "    plt.subplot(131),plt.imshow(img),plt.title('Original')\n",
    "    plt.xticks([]), plt.yticks([])\n",
    "    plt.subplot(132),plt.imshow(av3),plt.title('Averaging - 3x3')\n",
    "    plt.xticks([]), plt.yticks([])\n",
    "    plt.subplot(133),plt.imshow(av5),plt.title('Averaging - 5x5')\n",
    "    plt.xticks([]), plt.yticks([])\n",
    "    plt.show()\n",
    "    "
   ]
  },
  {
   "cell_type": "code",
   "execution_count": 6,
   "metadata": {},
   "outputs": [],
   "source": [
    "def noisy(image):\n",
    "    # https://stackoverflow.com/questions/22937589/how-to-add-noise-gaussian-salt-and-pepper-etc-to-image-in-python-with-opencv\n",
    "    row,col,ch = image.shape\n",
    "    s_vs_p = 0.5\n",
    "    amount = 0.04\n",
    "    out = np.copy(image)\n",
    "    # Salt mode\n",
    "    num_salt = np.ceil(amount * image.size * s_vs_p)\n",
    "    coords = [np.random.randint(0, i - 1, int(num_salt))\n",
    "          for i in image.shape]\n",
    "    out[coords] = 1\n",
    "    # Pepper mode\n",
    "    num_pepper = np.ceil(amount* image.size * (1. - s_vs_p))\n",
    "    coords = [np.random.randint(0, i - 1, int(num_pepper))\n",
    "          for i in image.shape]\n",
    "    out[coords] = 0\n",
    "    return out\n",
    "    noisy_img = noisy(img)\n",
    "    median = cv2.medianBlur(img,5)\n",
    "\n",
    "\n",
    "    plt.gcf().set_size_inches(25,25)\n",
    "    plt.subplot(131),plt.imshow(img),plt.title('Original')\n",
    "    plt.xticks([]), plt.yticks([])\n",
    "    plt.subplot(132),plt.imshow(noisy_img),plt.title('noisy_image')\n",
    "    plt.xticks([]), plt.yticks([])\n",
    "    plt.subplot(133),plt.imshow(median),plt.title('median_filtered')\n",
    "    plt.xticks([]), plt.yticks([])\n",
    "    plt.show()"
   ]
  },
  {
   "cell_type": "code",
   "execution_count": 7,
   "metadata": {},
   "outputs": [],
   "source": [
    "def gausian(img):\n",
    "    gb = cv2.GaussianBlur(img, (3,3), 1,1)\n",
    "    plt.gcf().set_size_inches(25,25)\n",
    "    plt.subplot(121),plt.imshow(img),plt.title('Original')\n",
    "    plt.xticks([]), plt.yticks([])\n",
    "    plt.subplot(122),plt.imshow(gb),plt.title('gausian filter')\n",
    "    plt.xticks([]), plt.yticks([])\n",
    "    plt.show()"
   ]
  },
  {
   "cell_type": "code",
   "execution_count": 8,
   "metadata": {},
   "outputs": [],
   "source": [
    "def bilateral(img):\n",
    "    bilateral = cv2.bilateralFilter(img,9,75,75)\n",
    "    plt.gcf().set_size_inches(25,25)\n",
    "    plt.subplot(121),plt.imshow(img),plt.title('Original')\n",
    "    plt.xticks([]), plt.yticks([])\n",
    "    plt.subplot(122),plt.imshow(bilateral),plt.title('bilateral filter')\n",
    "    plt.xticks([]), plt.yticks([])\n",
    "    plt.show()"
   ]
  },
  {
   "cell_type": "code",
   "execution_count": 9,
   "metadata": {},
   "outputs": [],
   "source": [
    "def edges(img):\n",
    "    #img = cv2.imread(\"wat_pho.png\", 0)\n",
    "    edges2 = skimage.feature.canny(\n",
    "        image=img,\n",
    "        sigma=2,\n",
    "        low_threshold=2,\n",
    "        high_threshold=10,\n",
    "    )\n",
    "    edges5 = skimage.feature.canny(\n",
    "        image=img,\n",
    "        sigma=5,\n",
    "        low_threshold=2,\n",
    "        high_threshold=10,\n",
    "    )\n",
    "    plt.gcf().set_size_inches(25,25)\n",
    "    plt.subplot(131),plt.imshow(img),plt.title('Original')\n",
    "    plt.xticks([]), plt.yticks([])\n",
    "    plt.subplot(132),plt.imshow(edges2),plt.title('edge 2 filter')\n",
    "    plt.xticks([]), plt.yticks([])\n",
    "    plt.subplot(133),plt.imshow(edges5),plt.title('edge 5 filter')\n",
    "    plt.xticks([]), plt.yticks([])\n",
    "    plt.show()"
   ]
  },
  {
   "cell_type": "code",
   "execution_count": 10,
   "metadata": {},
   "outputs": [
    {
     "data": {
      "text/plain": [
       "\"\\nimport PIL\\nfrom PIL import ImageEnhance\\nimg = PIL.Image.open('wat_pho.png')\\nconverter = ImageEnhance.Brightness(img)\\nimg2 = converter.enhance(0.5)\\nimg3 = converter.enhance(2)\\n\\n\""
      ]
     },
     "execution_count": 10,
     "metadata": {},
     "output_type": "execute_result"
    }
   ],
   "source": [
    "\"\"\"\n",
    "import PIL\n",
    "from PIL import ImageEnhance\n",
    "img = PIL.Image.open('wat_pho.png')\n",
    "converter = ImageEnhance.Brightness(img)\n",
    "img2 = converter.enhance(0.5)\n",
    "img3 = converter.enhance(2)\n",
    "\n",
    "\"\"\""
   ]
  },
  {
   "cell_type": "code",
   "execution_count": 11,
   "metadata": {},
   "outputs": [],
   "source": [
    "#converter = ImageEnhance.Sharpness(img)\n"
   ]
  },
  {
   "cell_type": "code",
   "execution_count": 12,
   "metadata": {},
   "outputs": [],
   "source": [
    "#converter = ImageEnhance.Contrast(img)"
   ]
  },
  {
   "cell_type": "code",
   "execution_count": 13,
   "metadata": {},
   "outputs": [],
   "source": [
    "#converter = ImageEnhance.Color(img)"
   ]
  },
  {
   "cell_type": "code",
   "execution_count": 17,
   "metadata": {},
   "outputs": [
    {
     "name": "stdout",
     "output_type": "stream",
     "text": [
      " hello you have the following choices \n",
      "\n",
      "press 1 average filter\n",
      "\n",
      "press 2 noise and median filter\n",
      "\n",
      "press 3 gaussian filter\n",
      "\n",
      "press 4 bilateral filter\n",
      "\n",
      "press 5 edge filter\n",
      "\n",
      "*******enter your choice***********\n",
      "1\n",
      "output of the image is\n"
     ]
    }
   ],
   "source": [
    "start()"
   ]
  },
  {
   "cell_type": "code",
   "execution_count": 18,
   "metadata": {},
   "outputs": [],
   "source": [
    "ch"
   ]
  },
  {
   "cell_type": "code",
   "execution_count": null,
   "metadata": {},
   "outputs": [],
   "source": []
  }
 ],
 "metadata": {
  "kernelspec": {
   "display_name": "Python 3",
   "language": "python",
   "name": "python3"
  },
  "language_info": {
   "codemirror_mode": {
    "name": "ipython",
    "version": 3
   },
   "file_extension": ".py",
   "mimetype": "text/x-python",
   "name": "python",
   "nbconvert_exporter": "python",
   "pygments_lexer": "ipython3",
   "version": "3.8.5"
  }
 },
 "nbformat": 4,
 "nbformat_minor": 4
}
